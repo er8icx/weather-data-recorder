{
  "nbformat": 4,
  "nbformat_minor": 0,
  "metadata": {
    "colab": {
      "provenance": []
    },
    "kernelspec": {
      "name": "python3",
      "display_name": "Python 3"
    },
    "language_info": {
      "name": "python"
    }
  },
  "cells": [
    {
      "cell_type": "code",
      "execution_count": 9,
      "metadata": {
        "id": "ATVOdFmYUEQa"
      },
      "outputs": [],
      "source": [
        "# Weather Data Recorder for AgriWeather Insights\n",
        "# Importing Required Libraries\n",
        "import pandas as pd\n",
        "import datetime as datetime"
      ]
    },
    {
      "cell_type": "code",
      "source": [
        "# Initialize Data Structures\n",
        "data=[]\n",
        "unique_date=[]"
      ],
      "metadata": {
        "id": "fv366-8BUnXQ"
      },
      "execution_count": 10,
      "outputs": []
    },
    {
      "cell_type": "code",
      "source": [
        "# Function to Add Weather Record\n",
        "def add_weather_data(date_str, temp, condition):\n",
        "    date = datetime.strptime(date_str, \"%Y-%m-%d\").date()\n",
        "    if date_str not in unique_date:\n",
        "        data.append({\n",
        "            \"Date\": date_str,\n",
        "            \"Temperature\": float(temp),\n",
        "            \"Condition\": condition\n",
        "        })\n",
        "        unique_date.add(date_str)\n",
        "        print(\"✅ Record added successfully.\")\n",
        "    else:\n",
        "        print(\"⚠️ Date already exists. Skipping entry.\")"
      ],
      "metadata": {
        "id": "SHXN6G2DU3-u"
      },
      "execution_count": 11,
      "outputs": []
    },
    {
      "cell_type": "code",
      "source": [
        "# View Current Weather Data\n",
        "def summarize_data():\n",
        "    if not data:\n",
        "        print(\"No data to summarize.\")\n",
        "        return\n",
        "    df = pd.DataFrame(data)\n",
        "    avg_temp = df[\"Temperature (C)\"].mean()\n",
        "    print(f\"\\nAverage Temperature: {avg_temp:.2f} °C\")"
      ],
      "metadata": {
        "id": "I8PUTgPlU5gL"
      },
      "execution_count": 12,
      "outputs": []
    },
    {
      "cell_type": "code",
      "source": [
        "# Summarize the Weather Data\n",
        "def view_data():\n",
        "    if not data:\n",
        "        print(\"No weather records available.\")\n",
        "        return\n",
        "    df = pd.DataFrame(data)\n",
        "    print(\"\\nWeather Records:\")\n",
        "    print(df)"
      ],
      "metadata": {
        "id": "MxnTBSA9U7Yi"
      },
      "execution_count": 13,
      "outputs": []
    },
    {
      "cell_type": "code",
      "source": [
        "# Export Data to CSV\n",
        "def export_to_csv(filename=\"weather_data.csv\"):\n",
        "    if not data:\n",
        "        print(\"No data to export.\")\n",
        "        return\n",
        "    df = pd.DataFrame(data)\n",
        "    df.to_csv(filename, index=False)\n",
        "    print(f\"✅ Data exported to {filename}\")"
      ],
      "metadata": {
        "id": "ESXLthbLU9KK"
      },
      "execution_count": 14,
      "outputs": []
    },
    {
      "cell_type": "code",
      "source": [
        "if __name__ == \"__main__\":\n",
        "    while True:\n",
        "        print(\"\\n1. Add Record  2. View Records  3. Summary  4. Export  5. Exit\")\n",
        "        choice = input(\"Choose an option: \")\n",
        "        if choice == '1':\n",
        "            date = input(\"Enter date (YYYY-MM-DD): \")\n",
        "            temp = input(\"Enter temperature (°C): \")\n",
        "            condition = input(\"Enter weather condition: \")\n",
        "            add_weather_data(date, temp, condition)\n",
        "        elif choice == '2':\n",
        "            view_data()\n",
        "        elif choice == '3':\n",
        "            summarize_data()\n",
        "        elif choice == '4':\n",
        "            export_to_csv()\n",
        "        elif choice == '5':\n",
        "            break\n",
        "        else:\n",
        "            print(\"Invalid option. Try again.\")"
      ],
      "metadata": {
        "colab": {
          "base_uri": "https://localhost:8080/"
        },
        "id": "LatJ5UwWU-6d",
        "outputId": "0b647a74-2e7c-4f64-de03-9467e3a73ab2"
      },
      "execution_count": 8,
      "outputs": [
        {
          "name": "stdout",
          "output_type": "stream",
          "text": [
            "\n",
            "1. Add Record  2. View Records  3. Summary  4. Export  5. Exit\n",
            "Choose an option: 5\n"
          ]
        }
      ]
    }
  ]
}